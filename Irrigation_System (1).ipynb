{
  "cells": [
    {
      "cell_type": "markdown",
      "id": "8ea2676c",
      "metadata": {
        "id": "8ea2676c"
      },
      "source": [
        "# Smart Irrigation System\n",
        "\n",
        "This notebook demonstrates a basic smart irrigation system using Python."
      ]
    },
    {
      "cell_type": "code",
      "execution_count": 1,
      "id": "cc75ce00",
      "metadata": {
        "colab": {
          "base_uri": "https://localhost:8080/"
        },
        "id": "cc75ce00",
        "outputId": "e7cf2a64-6df4-4004-95bb-c073e1a33d4a"
      },
      "outputs": [
        {
          "output_type": "stream",
          "name": "stdout",
          "text": [
            "📊 Initial Dataset:\n",
            "   soil_moisture  temperature  humidity  water_needed\n",
            "0             10           20        70             1\n",
            "1             30           22        65             1\n",
            "2             45           25        60             1\n",
            "3             70           30        55             0\n",
            "4             85           35        50             0\n",
            "5             90           38        45             0\n",
            "6             60           28        65             0\n",
            "7             55           26        60             0\n",
            "8             20           21        75             1\n",
            "9             40           23        70             1\n",
            "\n",
            "❓ Null values:\n",
            " soil_moisture    0\n",
            "temperature      0\n",
            "humidity         0\n",
            "water_needed     0\n",
            "dtype: int64\n",
            "\n",
            "📌 Data Summary:\n",
            "       soil_moisture  temperature  humidity  water_needed\n",
            "count      10.000000    10.000000  10.00000     10.000000\n",
            "mean       50.500000    26.800000  61.50000      0.500000\n",
            "std        26.609313     6.014797   9.44281      0.527046\n",
            "min        10.000000    20.000000  45.00000      0.000000\n",
            "25%        32.500000    22.250000  56.25000      0.000000\n",
            "50%        50.000000    25.500000  62.50000      0.500000\n",
            "75%        67.500000    29.500000  68.75000      1.000000\n",
            "max        90.000000    38.000000  75.00000      1.000000\n",
            "\n",
            "📈 Correlation Matrix:\n",
            "               soil_moisture  temperature  humidity  water_needed\n",
            "soil_moisture       1.000000     0.969144 -0.909835     -0.851694\n",
            "temperature         0.969144     1.000000 -0.933155     -0.806150\n",
            "humidity           -0.909835    -0.933155  1.000000      0.725589\n",
            "water_needed       -0.851694    -0.806150  0.725589      1.000000\n",
            "\n",
            "✅ Model Accuracy on Test Set: 100.00%\n",
            "\n",
            "📦 Model saved as 'farm_irrigation_system.pkl'\n"
          ]
        }
      ],
      "source": [
        "# -----------------------------------------\n",
        "# 🚀 Week 1: Data Collection & Preprocessing\n",
        "# -----------------------------------------\n",
        "\n",
        "# Step 1: Import libraries\n",
        "import pandas as pd\n",
        "import numpy as np\n",
        "\n",
        "# Step 2: Create a sample dataset\n",
        "data = {\n",
        "    'soil_moisture': [10, 30, 45, 70, 85, 90, 60, 55, 20, 40],\n",
        "    'temperature': [20, 22, 25, 30, 35, 38, 28, 26, 21, 23],\n",
        "    'humidity': [70, 65, 60, 55, 50, 45, 65, 60, 75, 70],\n",
        "    'water_needed': [1, 1, 1, 0, 0, 0, 0, 0, 1, 1]  # 1 = Water Required\n",
        "}\n",
        "\n",
        "df = pd.DataFrame(data)\n",
        "\n",
        "# Step 3: Check data\n",
        "print(\"📊 Initial Dataset:\")\n",
        "print(df)\n",
        "\n",
        "# Step 4: Check for null values\n",
        "print(\"\\n❓ Null values:\\n\", df.isnull().sum())\n",
        "\n",
        "# Step 5: Describe the dataset\n",
        "print(\"\\n📌 Data Summary:\")\n",
        "print(df.describe())\n",
        "\n",
        "# Step 6: Correlation (Optional - for EDA)\n",
        "print(\"\\n📈 Correlation Matrix:\")\n",
        "print(df.corr())\n",
        "\n",
        "\n",
        "# -----------------------------------------\n",
        "# 🔧 Week 2: Model Training & Saving\n",
        "# -----------------------------------------\n",
        "\n",
        "from sklearn.model_selection import train_test_split\n",
        "from sklearn.ensemble import RandomForestClassifier\n",
        "import pickle\n",
        "\n",
        "# Step 7: Features and labels\n",
        "X = df[['soil_moisture', 'temperature', 'humidity']]\n",
        "y = df['water_needed']\n",
        "\n",
        "# Step 8: Train-Test Split\n",
        "X_train, X_test, y_train, y_test = train_test_split(X, y, test_size=0.2, random_state=42)\n",
        "\n",
        "# Step 9: Train the model\n",
        "model = RandomForestClassifier()\n",
        "model.fit(X_train, y_train)\n",
        "\n",
        "# Step 10: Model Accuracy (Optional)\n",
        "accuracy = model.score(X_test, y_test)\n",
        "print(f\"\\n✅ Model Accuracy on Test Set: {accuracy*100:.2f}%\")\n",
        "\n",
        "# Step 11: Save the model as .pkl\n",
        "with open(\"farm_irrigation_system.pkl\", \"wb\") as f:\n",
        "    pickle.dump(model, f)\n",
        "\n",
        "print(\"\\n📦 Model saved as 'farm_irrigation_system.pkl'\")\n"
      ]
    },
    {
      "cell_type": "markdown",
      "id": "0561e1f1",
      "metadata": {
        "id": "0561e1f1"
      },
      "source": [
        "## Description\n",
        "This notebook can be expanded to include:\n",
        "- Soil moisture data\n",
        "- Weather prediction integration\n",
        "- Machine learning for water usage prediction\n"
      ]
    }
  ],
  "metadata": {
    "colab": {
      "provenance": []
    },
    "language_info": {
      "name": "python"
    },
    "kernelspec": {
      "name": "python3",
      "display_name": "Python 3"
    }
  },
  "nbformat": 4,
  "nbformat_minor": 5
}