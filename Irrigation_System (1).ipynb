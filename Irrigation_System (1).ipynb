# === IMPORT LIBRARIES ===
import pandas as pd
import matplotlib.pyplot as plt
import seaborn as sns
import numpy as np

from sklearn.model_selection import train_test_split
from sklearn.ensemble import RandomForestClassifier
from sklearn.multioutput import MultiOutputClassifier
from sklearn.preprocessing import MinMaxScaler
from sklearn.metrics import classification_report
import joblib

# === STEP 1: LOAD AND CLEAN DATA ===
df = pd.read_csv("irrigation_machine.csv")

# Remove unnecessary column
if 'Unnamed: 0' in df.columns:
    df = df.drop('Unnamed: 0', axis=1)

# Basic stats
print(df.head())
print(df.info())
print(df.describe())

# === STEP 2: SPLIT FEATURES AND LABELS ===
X = df.iloc[:, :20]         # sensor_0 to sensor_19
y = df.iloc[:, 20:]         # parcel_0 to parcel_2

# Normalize sensor values
scaler = MinMaxScaler()
X_scaled = scaler.fit_transform(X)

# === STEP 3: TRAIN-TEST SPLIT ===
X_train, X_test, y_train, y_test = train_test_split(
    X_scaled, y, test_size=0.2, random_state=42
)

# === STEP 4: TRAINING THE MODEL ===
rf = RandomForestClassifier(
    n_estimators=200,
    max_depth=10,
    min_samples_split=4,
    min_samples_leaf=2,
    max_features='sqrt',
    random_state=42
)
model = MultiOutputClassifier(rf)
model.fit(X_train, y_train)

# === STEP 5: EVALUATION ===
y_pred = model.predict(X_test)
print("Classification Report:\n")
print(classification_report(y_test, y_pred, target_names=y.columns))

# === STEP 6: VISUALIZATION ===

# Plot sprinkler activation
conditions = {
    "Parcel 0 ON": df['parcel_0'],
    "Parcel 1 ON": df['parcel_1'],
    "Parcel 2 ON": df['parcel_2'],
    "Parcel 0 & 1 ON": df['parcel_0'] & df['parcel_1'],
    "Parcel 0 & 2 ON": df['parcel_0'] & df['parcel_2'],
    "Parcel 1 & 2 ON": df['parcel_1'] & df['parcel_2'],
    "All Parcels ON": df['parcel_0'] & df['parcel_1'] & df['parcel_2'],
}

fig, axs = plt.subplots(nrows=len(conditions), figsize=(10, 15), sharex=True)

for ax, (title, condition) in zip(axs, conditions.items()):
    ax.step(df.index, condition.astype(int), where='post', linewidth=1, color='teal')
    ax.set_title(f"Sprinkler - {title}")
    ax.set_ylabel("Status")
    ax.set_yticks([0, 1])
    ax.set_yticklabels(['OFF', 'ON'])

axs[-1].set_xlabel("Time Index (Row Number)")
plt.tight_layout()
plt.show()

# Plot combined activity
any_pump_on = df[['parcel_0', 'parcel_1', 'parcel_2']].any(axis=1)

plt.figure(figsize=(15, 5))
plt.step(df.index, df['parcel_0'], where='post', linewidth=2, label='Parcel 0', color='blue')
plt.step(df.index, df['parcel_1'], where='post', linewidth=2, label='Parcel 1', color='orange')
plt.step(df.index, df['parcel_2'], where='post', linewidth=2, label='Parcel 2', color='green')
plt.title("Pump Activity and Combined Farm Coverage")
plt.xlabel("Time Index")
plt.ylabel("Status")
plt.yticks([0, 1], ['OFF', 'ON'])
plt.legend()
plt.show()

# === STEP 7: SAVE MODEL ===
joblib.dump(model, "Farm_Irrigation_System.pkl")
